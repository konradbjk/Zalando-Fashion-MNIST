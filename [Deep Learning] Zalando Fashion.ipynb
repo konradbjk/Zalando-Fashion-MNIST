{
 "cells": [
  {
   "cell_type": "markdown",
   "metadata": {
    "_cell_guid": "dfdf80a5-bb2a-41c8-bb66-1e432e852b67",
    "_uuid": "6cc8f4d4b8d92d1970c259922d95cf17f80a7487"
   },
   "source": [
    "# Introduction\n",
    "\n",
    "You've seen how to build a model from scratch to identify handwritten digits.  You'll now build a model to identify different types of clothing.  To make models that train quickly, we'll work with very small (low-resolution) images. \n",
    "\n",
    "As an example, your model will take an images like this and identify it as a shoe:\n",
    "![Imgur](https://i.imgur.com/GyXOnSB.png)"
   ]
  },
  {
   "cell_type": "markdown",
   "metadata": {
    "_uuid": "85022d62f8b2f581b2a067c8289fd67bcf517ccd"
   },
   "source": [
    "# Data Preparation\n",
    "This code is supplied, and you don't need to change it. Just run the cell below."
   ]
  },
  {
   "cell_type": "code",
   "execution_count": 1,
   "metadata": {
    "_cell_guid": "d9aa6241-74fc-4c05-bad5-6281d3f45966",
    "_uuid": "2da7ce8c4a1de3b53665c145a91d4bc7e168ddd2"
   },
   "outputs": [
    {
     "ename": "ModuleNotFoundError",
     "evalue": "No module named 'sklearn'",
     "output_type": "error",
     "traceback": [
      "\u001b[0;31m---------------------------------------------------------------------------\u001b[0m",
      "\u001b[0;31mModuleNotFoundError\u001b[0m                       Traceback (most recent call last)",
      "\u001b[0;32m<ipython-input-1-244ea8bb767a>\u001b[0m in \u001b[0;36m<module>\u001b[0;34m()\u001b[0m\n\u001b[1;32m      1\u001b[0m \u001b[0;32mimport\u001b[0m \u001b[0mnumpy\u001b[0m \u001b[0;32mas\u001b[0m \u001b[0mnp\u001b[0m\u001b[0;34m\u001b[0m\u001b[0m\n\u001b[0;32m----> 2\u001b[0;31m \u001b[0;32mfrom\u001b[0m \u001b[0msklearn\u001b[0m\u001b[0;34m.\u001b[0m\u001b[0mmodel_selection\u001b[0m \u001b[0;32mimport\u001b[0m \u001b[0mtrain_test_split\u001b[0m\u001b[0;34m\u001b[0m\u001b[0m\n\u001b[0m\u001b[1;32m      3\u001b[0m \u001b[0;32mfrom\u001b[0m \u001b[0mtensorflow\u001b[0m\u001b[0;34m.\u001b[0m\u001b[0mpython\u001b[0m \u001b[0;32mimport\u001b[0m \u001b[0mkeras\u001b[0m\u001b[0;34m\u001b[0m\u001b[0m\n\u001b[1;32m      4\u001b[0m \u001b[0;34m\u001b[0m\u001b[0m\n\u001b[1;32m      5\u001b[0m \u001b[0mimg_rows\u001b[0m\u001b[0;34m,\u001b[0m \u001b[0mimg_cols\u001b[0m \u001b[0;34m=\u001b[0m \u001b[0;36m28\u001b[0m\u001b[0;34m,\u001b[0m \u001b[0;36m28\u001b[0m\u001b[0;34m\u001b[0m\u001b[0m\n",
      "\u001b[0;31mModuleNotFoundError\u001b[0m: No module named 'sklearn'"
     ]
    }
   ],
   "source": [
    "import numpy as np\n",
    "from sklearn.model_selection import train_test_split\n",
    "from tensorflow.python import keras\n",
    "\n",
    "img_rows, img_cols = 28, 28\n",
    "num_classes = 10\n",
    "\n",
    "def prep_data(raw, train_size, val_size):\n",
    "    y = raw[:, 0]\n",
    "    out_y = keras.utils.to_categorical(y, num_classes)\n",
    "    \n",
    "    x = raw[:,1:]\n",
    "    num_images = raw.shape[0]\n",
    "    out_x = x.reshape(num_images, img_rows, img_cols, 1)\n",
    "    out_x = out_x / 255\n",
    "    return out_x, out_y\n",
    "\n",
    "fashion_file = \"../input/fashionmnist/fashion-mnist_train.csv\"\n",
    "fashion_data = np.loadtxt(fashion_file, skiprows=1, delimiter=',')\n",
    "x, y = prep_data(fashion_data, train_size=50000, val_size=5000)"
   ]
  },
  {
   "cell_type": "markdown",
   "metadata": {
    "_uuid": "0c6bbeef0057720505454507ae098d96b160b4df"
   },
   "source": [
    "# Specify Model\n",
    "**STEPS:**\n",
    "1. Create a `Sequential` model. Call it `fashion_model`.\n",
    "2. Add 3 `Conv2D` layers to `fashion_model`.  Make each layer have 12 filters, a kernel_size of 3 and a **relu** activation.  You will need to specify the `input_shape` for the first `Conv2D` layer.  The input shape in this case is `(img_rows, img_cols, 1)`.\n",
    "3. Add a `Flatten` layer to `fashion_model` after the last `Conv2D` layer.\n",
    "4. Add a `Dense` layer with 100 neurons to `fashion_model` after the `Flatten` layer.  \n",
    "5. Add your prediction layer to `fashion_model`.  This is a `Dense` layer.  We alrady have a variable called `num_classes`.  Use this variable when specifying the number of nodes in this layer. The activation should be `softmax` (or you will have problems later)."
   ]
  },
  {
   "cell_type": "code",
   "execution_count": 8,
   "metadata": {
    "_cell_guid": "d2e326a6-ac8a-422b-8cff-6c1d7ccd7ced",
    "_uuid": "4d2c616eb22814d5285ba267bc839a43b3fea6b6",
    "collapsed": true
   },
   "outputs": [],
   "source": [
    "from tensorflow.python import keras\n",
    "from tensorflow.python.keras.models import Sequential\n",
    "from tensorflow.python.keras.layers import Dense, Flatten, Conv2D\n",
    "\n",
    "# Your Code Here\n",
    "fashion_model = Sequential()\n",
    "\n",
    "fashion_model.add(Conv2D(12, kernel_size = (3, 3),\n",
    "                        activation = 'relu',\n",
    "                        input_shape = (img_rows, img_cols, 1)))\n",
    "fashion_model.add(Conv2D(12, kernel_size = (3, 3),\n",
    "                        activation = 'relu'))\n",
    "fashion_model.add(Conv2D(12, kernel_size = (3, 3),\n",
    "                        activation = 'relu'))\n",
    "fashion_model.add(Flatten())\n",
    "fashion_model.add(Dense(100, \n",
    "                        activation='relu'))\n",
    "fashion_model.add(Dense(num_classes,\n",
    "                       activation = 'softmax'))"
   ]
  },
  {
   "cell_type": "markdown",
   "metadata": {
    "_uuid": "5e660e46f096b8adfeeb5660d179e81a40338e40"
   },
   "source": [
    "# Compile Model\n",
    "Run the command `fashion_model.compile`.  Specify the following arguments:\n",
    "1. `loss = keras.losses.categorical_crossentropy`\n",
    "2. `optimizer = 'adam'`\n",
    "3. `metrics = ['accuracy']`"
   ]
  },
  {
   "cell_type": "code",
   "execution_count": 10,
   "metadata": {
    "_uuid": "e74bb650acce4efaa5335f6e48803f246332c679"
   },
   "outputs": [],
   "source": [
    "# Your code to compile the model in this cell\n",
    "\n",
    "fashion_model.compile(loss = keras.losses.categorical_crossentropy,\n",
    "                     optimizer = 'adam',\n",
    "                     metrics = ['accuracy'])"
   ]
  },
  {
   "cell_type": "markdown",
   "metadata": {
    "_uuid": "1ab679642ebe0a4edc511b361e1d9e1a4ab268f4"
   },
   "source": [
    "# Fit Model\n",
    "Run the command `fashion_model.fit`. The arguments you will use are\n",
    "1. The first two are arguments are the data used to fit the model, which are `x` and `y` respectively.\n",
    "2. `batch_size = 100`\n",
    "3. `epochs = 4`\n",
    "4. `validation_split = 0.2`\n",
    "\n",
    "When you run this command, you can watch your model start improving.  You will see validation accuracies after each epoch."
   ]
  },
  {
   "cell_type": "code",
   "execution_count": 11,
   "metadata": {
    "_uuid": "a001324c9bc11570a15eb201070d65cd8d0e81da"
   },
   "outputs": [
    {
     "name": "stdout",
     "output_type": "stream",
     "text": [
      "Train on 48000 samples, validate on 12000 samples\n",
      "Epoch 1/4\n",
      "48000/48000 [==============================]48000/48000 [==============================] - 86s 2ms/step - loss: 0.4924 - acc: 0.8226 - val_loss: 0.3723 - val_acc: 0.8713\n",
      "\n",
      "Epoch 2/4\n",
      "48000/48000 [==============================]48000/48000 [==============================] - 87s 2ms/step - loss: 0.3299 - acc: 0.8823 - val_loss: 0.3107 - val_acc: 0.8888\n",
      "\n",
      "Epoch 3/4\n",
      "48000/48000 [==============================]48000/48000 [==============================] - 86s 2ms/step - loss: 0.2723 - acc: 0.9017 - val_loss: 0.2861 - val_acc: 0.9007\n",
      "\n",
      "Epoch 4/4\n",
      "48000/48000 [==============================]48000/48000 [==============================] - 86s 2ms/step - loss: 0.2354 - acc: 0.9138 - val_loss: 0.2746 - val_acc: 0.9040\n",
      "\n"
     ]
    },
    {
     "data": {
      "text/plain": [
       "<tensorflow.python.keras._impl.keras.callbacks.History at 0x7f9a134db710>"
      ]
     },
     "execution_count": 11,
     "metadata": {},
     "output_type": "execute_result"
    }
   ],
   "source": [
    "# Your code to fit the model here\n",
    "\n",
    "fashion_model.fit(x,y,\n",
    "                 batch_size = 100,\n",
    "                 epochs = 4,\n",
    "                 validation_split = 0.2)"
   ]
  },
  {
   "cell_type": "markdown",
   "metadata": {
    "_uuid": "7190e55038bb42c8c1818cc0d6e55e2f02a8092e"
   },
   "source": [
    "# Scores\n",
    "\n",
    "### 1) batch_size = 100, epochs = 4, validation_split = 0.2, 3x Conv2D with 12 filters\n",
    "\n",
    "Epoch 1/4\n",
    "48000/48000 [==============================]48000/48000 [==============================] - 86s 2ms/step - loss: 0.4924 - acc: 0.8226 - val_loss: 0.3723 - val_acc: 0.8713\n",
    "\n",
    "Epoch 2/4\n",
    "48000/48000 [==============================]48000/48000 [==============================] - 87s 2ms/step - loss: 0.3299 - acc: 0.8823 - val_loss: 0.3107 - val_acc: 0.8888\n",
    "\n",
    "Epoch 3/4\n",
    "48000/48000 [==============================]48000/48000 [==============================] - 86s 2ms/step - loss: 0.2723 - acc: 0.9017 - val_loss: 0.2861 - val_acc: 0.9007\n",
    "\n",
    "Epoch 4/4\n",
    "48000/48000 [==============================]48000/48000 [==============================] - 86s 2ms/step - loss: 0.2354 - acc: 0.9138 - val_loss: 0.2746 - val_acc: 0.9040\n",
    "\n",
    "# Keep Going\n",
    "Continue to learn about strides and dropout [here](https://www.kaggle.com/dansbecker/dropout-and-strides-for-larger-models).\n",
    "\n",
    "---\n",
    "**[Deep Learning Track Home Page](https://www.kaggle.com/learn/deep-learning)**\n",
    "\n"
   ]
  },
  {
   "cell_type": "code",
   "execution_count": null,
   "metadata": {
    "_uuid": "ef5ff76acd33f8ee50ae98185179ba65901bafb2",
    "collapsed": true
   },
   "outputs": [],
   "source": []
  }
 ],
 "metadata": {
  "kernelspec": {
   "display_name": "Python 3",
   "language": "python",
   "name": "python3"
  },
  "language_info": {
   "codemirror_mode": {
    "name": "ipython",
    "version": 3
   },
   "file_extension": ".py",
   "mimetype": "text/x-python",
   "name": "python",
   "nbconvert_exporter": "python",
   "pygments_lexer": "ipython3",
   "version": "3.6.6"
  }
 },
 "nbformat": 4,
 "nbformat_minor": 1
}
